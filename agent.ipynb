{
 "cells": [
  {
   "cell_type": "code",
   "execution_count": 12,
   "id": "47445362",
   "metadata": {},
   "outputs": [],
   "source": [
    "from autogen import ConversableAgent\n",
    "from dotenv import load_dotenv\n",
    "import os"
   ]
  },
  {
   "cell_type": "code",
   "execution_count": null,
   "id": "55b72d9a",
   "metadata": {},
   "outputs": [
    {
     "name": "stdout",
     "output_type": "stream",
     "text": [
      "Sure! Here's a joke for you:\n",
      "\n",
      "Why don’t scientists trust atoms?\n",
      "\n",
      "Because they make up everything!\n"
     ]
    }
   ],
   "source": [
    "load_dotenv()\n",
    "\n",
    "agent = ConversableAgent(\"chatbot\",\n",
    "                          llm_config={\"model\": \"gpt-4.1-mini\", \"api_key\": os.environ.get(\"OPENAI_API_KEY\")},\n",
    "                        human_input_mode=\"NEVER\")\n",
    "\n",
    "reply = agent.generate_reply(messages=[{\"content\": \"Tell me a joke\", \"role\": \"user\"}])\n",
    "\n",
    "print(reply)"
   ]
  }
 ],
 "metadata": {
  "kernelspec": {
   "display_name": "Python 3",
   "language": "python",
   "name": "python3"
  },
  "language_info": {
   "codemirror_mode": {
    "name": "ipython",
    "version": 3
   },
   "file_extension": ".py",
   "mimetype": "text/x-python",
   "name": "python",
   "nbconvert_exporter": "python",
   "pygments_lexer": "ipython3",
   "version": "3.12.3"
  }
 },
 "nbformat": 4,
 "nbformat_minor": 5
}
